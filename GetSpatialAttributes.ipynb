{
 "cells": [
  {
   "cell_type": "code",
   "execution_count": 1,
   "id": "eb7957cc-f574-4e44-8a8c-8ccf9a680d5f",
   "metadata": {},
   "outputs": [],
   "source": [
    "import ee\n",
    "ee.Initialize()\n",
    "from Utils import eeTools\n",
    "import pandas as pd\n",
    "import geemap\n",
    "\n",
    "# geemap.update_package()"
   ]
  },
  {
   "cell_type": "code",
   "execution_count": 6,
   "id": "6ec2164f-1f68-4832-9f8f-29deb1d85a24",
   "metadata": {
    "tags": []
   },
   "outputs": [],
   "source": [
    "# ee.Authenticate()\n",
    "START_DATE = '2023-01-27'\n",
    "END_DATE = '2023-04-12'\n",
    "RESOL = 50\n"
   ]
  },
  {
   "cell_type": "code",
   "execution_count": 7,
   "id": "85c19faa-b932-4363-bce5-8ee5ed05f2d7",
   "metadata": {},
   "outputs": [],
   "source": [
    "ShapeFilePath = \"R:/PRJ-LandRehyd/Data/QGIS Files/Coords_sites.shp\"\n",
    "CSVPath = \"R:/PRJ-LandRehyd/Data/Satellite_covariates/TBI_Jan_Apr_2023.csv\"\n"
   ]
  },
  {
   "cell_type": "code",
   "execution_count": 8,
   "id": "ce00dd49-2b14-436b-9fe4-ecf5a59a78d3",
   "metadata": {},
   "outputs": [],
   "source": [
    "locations = geemap.shp_to_ee(ShapeFilePath)\n",
    "# locations = geemap.csv_to_ee(\"Datasets/KSSL_soillab_subset.csv\")\n",
    "Extraction = eeTools.getCovariates(locations,START_DATE,END_DATE,RESOL)\n",
    "pandas_Extract= geemap.ee_to_pandas(Extraction)\n"
   ]
  },
  {
   "cell_type": "code",
   "execution_count": 9,
   "id": "4ab34da4-eea5-44b7-9c49-2cea3b67738f",
   "metadata": {},
   "outputs": [],
   "source": [
    "pandas_Extract.to_csv(CSVPath)"
   ]
  },
  {
   "cell_type": "code",
   "execution_count": 10,
   "id": "69506456-27ad-4fbf-a6dc-f04f7d8468c0",
   "metadata": {},
   "outputs": [
    {
     "data": {
      "application/vnd.jupyter.widget-view+json": {
       "model_id": "1cfaff561a6449a89770f21d757e2bcd",
       "version_major": 2,
       "version_minor": 0
      },
      "text/plain": [
       "Map(center=[20, 0], controls=(WidgetControl(options=['position', 'transparent_bg'], widget=HBox(children=(Togg…"
      ]
     },
     "execution_count": 10,
     "metadata": {},
     "output_type": "execute_result"
    }
   ],
   "source": [
    "m = geemap.Map()\n",
    "m.add_basemap()\n",
    "m.add_ee_layer(Extraction)\n",
    "m"
   ]
  },
  {
   "cell_type": "code",
   "execution_count": null,
   "id": "7b21f324-84d2-496b-a03b-a7c068c0747f",
   "metadata": {},
   "outputs": [],
   "source": []
  }
 ],
 "metadata": {
  "kernelspec": {
   "display_name": "Python 3 (ipykernel)",
   "language": "python",
   "name": "python3"
  },
  "language_info": {
   "codemirror_mode": {
    "name": "ipython",
    "version": 3
   },
   "file_extension": ".py",
   "mimetype": "text/x-python",
   "name": "python",
   "nbconvert_exporter": "python",
   "pygments_lexer": "ipython3",
   "version": "3.11.3"
  }
 },
 "nbformat": 4,
 "nbformat_minor": 5
}
