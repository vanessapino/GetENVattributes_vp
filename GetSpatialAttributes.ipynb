{
 "cells": [
  {
   "cell_type": "code",
   "execution_count": 17,
   "id": "eb7957cc-f574-4e44-8a8c-8ccf9a680d5f",
   "metadata": {},
   "outputs": [],
   "source": [
    "#downloading packs\n",
    "import ee\n",
    "#ee.Authenticate() ## activate and run this line for authentify current computer on Earth Engine (you need an account)\n",
    "ee.Initialize()\n",
    "from Utils import eeTools\n",
    "import pandas as pd\n",
    "import geemap\n",
    "\n",
    "# geemap.update_package()"
   ]
  },
  {
   "cell_type": "code",
   "execution_count": 30,
   "id": "6ec2164f-1f68-4832-9f8f-29deb1d85a24",
   "metadata": {
    "tags": []
   },
   "outputs": [],
   "source": [
    "# select dates for extraction & resolution for imagery (unit??)\n",
    "START_DATE = '2022-04-11'\n",
    "END_DATE = '2022-07-21'\n",
    "RESOL = 50\n"
   ]
  },
  {
   "cell_type": "code",
   "execution_count": 31,
   "id": "85c19faa-b932-4363-bce5-8ee5ed05f2d7",
   "metadata": {},
   "outputs": [],
   "source": [
    "# to access the coordenates shape file and provide output location and file name\n",
    "ShapeFilePath = \"R:/PRJ-LandRehyd/Data/QGIS Files/Coords_sites_LRhyd.shp\"\n",
    "CSVPath = \"R:/PRJ-LandRehyd/Data/Satellite_covariates/tbiENV_Apr_Jul_2022_set2_WE_WW.csv\"\n"
   ]
  },
  {
   "cell_type": "code",
   "execution_count": 32,
   "id": "ce00dd49-2b14-436b-9fe4-ecf5a59a78d3",
   "metadata": {},
   "outputs": [],
   "source": [
    "locations = geemap.shp_to_ee(ShapeFilePath)\n",
    "# locations = geemap.csv_to_ee(\"Datasets/KSSL_soillab_subset.csv\")\n",
    "Extraction = eeTools.getCovariates(locations,START_DATE,END_DATE,RESOL)\n",
    "pandas_Extract= geemap.ee_to_pandas(Extraction)\n"
   ]
  },
  {
   "cell_type": "code",
   "execution_count": 29,
   "id": "4ab34da4-eea5-44b7-9c49-2cea3b67738f",
   "metadata": {},
   "outputs": [],
   "source": [
    "pandas_Extract.to_csv(CSVPath)"
   ]
  },
  {
   "cell_type": "code",
   "execution_count": null,
   "id": "69506456-27ad-4fbf-a6dc-f04f7d8468c0",
   "metadata": {},
   "outputs": [],
   "source": [
    "m = geemap.Map()\n",
    "m.add_basemap()\n",
    "m.add_ee_layer(Extraction)\n",
    "m"
   ]
  },
  {
   "cell_type": "code",
   "execution_count": null,
   "id": "7b21f324-84d2-496b-a03b-a7c068c0747f",
   "metadata": {},
   "outputs": [],
   "source": []
  }
 ],
 "metadata": {
  "kernelspec": {
   "display_name": "Python 3 (ipykernel)",
   "language": "python",
   "name": "python3"
  },
  "language_info": {
   "codemirror_mode": {
    "name": "ipython",
    "version": 3
   },
   "file_extension": ".py",
   "mimetype": "text/x-python",
   "name": "python",
   "nbconvert_exporter": "python",
   "pygments_lexer": "ipython3",
   "version": "3.11.3"
  }
 },
 "nbformat": 4,
 "nbformat_minor": 5
}
